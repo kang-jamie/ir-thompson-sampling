{
 "cells": [
  {
   "cell_type": "code",
   "execution_count": 1,
   "metadata": {},
   "outputs": [],
   "source": [
    "import learning_agent as agent\n",
    "import numpy as np"
   ]
  },
  {
   "cell_type": "code",
   "execution_count": 2,
   "metadata": {},
   "outputs": [],
   "source": [
    "T = 500\n",
    "true_p = np.array([0.8,0.2])\n",
    "# out_opt = np.random.random(T) * (true_p[0]-true_p[1]) + true_p[1]\n",
    "# out_opt = np.random.random(T) * (1-true_p[1]) + true_p[1]\n",
    "# print(out_opt)"
   ]
  },
  {
   "cell_type": "code",
   "execution_count": 3,
   "metadata": {},
   "outputs": [],
   "source": [
    "M = 10\n",
    "irts_pred_d = np.zeros(shape=(M,2))\n",
    "irts_welfare = np.zeros(M)\n",
    "irts_welfare_loss = np.zeros(M)\n",
    "irts_n_out = np.zeros(M)\n",
    "\n",
    "ts_pred_d = np.zeros(shape=(M,2))\n",
    "ts_welfare = np.zeros(M)\n",
    "ts_welfare_loss = np.zeros(M)"
   ]
  },
  {
   "cell_type": "code",
   "execution_count": 4,
   "metadata": {},
   "outputs": [
    {
     "name": "stdout",
     "output_type": "stream",
     "text": [
      "--*--*--*--*--* 0-th Simulation --*--*--*--*--*\n",
      "=====0-th trial =====\n",
      "=====100-th trial =====\n",
      "=====200-th trial =====\n",
      "=====300-th trial =====\n",
      "=====400-th trial =====\n",
      "=====0-th trial =====\n",
      "=====100-th trial =====\n",
      "=====200-th trial =====\n",
      "=====300-th trial =====\n",
      "=====400-th trial =====\n",
      "--*--*--*--*--* 1-th Simulation --*--*--*--*--*\n",
      "=====0-th trial =====\n",
      "=====100-th trial =====\n",
      "=====200-th trial =====\n",
      "=====300-th trial =====\n",
      "=====400-th trial =====\n",
      "=====0-th trial =====\n",
      "=====100-th trial =====\n",
      "=====200-th trial =====\n",
      "=====300-th trial =====\n",
      "=====400-th trial =====\n",
      "--*--*--*--*--* 2-th Simulation --*--*--*--*--*\n",
      "=====0-th trial =====\n",
      "=====100-th trial =====\n",
      "=====200-th trial =====\n",
      "=====300-th trial =====\n",
      "=====400-th trial =====\n",
      "=====0-th trial =====\n",
      "=====100-th trial =====\n",
      "=====200-th trial =====\n",
      "=====300-th trial =====\n",
      "=====400-th trial =====\n",
      "--*--*--*--*--* 3-th Simulation --*--*--*--*--*\n",
      "=====0-th trial =====\n",
      "=====100-th trial =====\n",
      "=====200-th trial =====\n",
      "=====300-th trial =====\n",
      "=====400-th trial =====\n",
      "=====0-th trial =====\n",
      "=====100-th trial =====\n",
      "=====200-th trial =====\n",
      "=====300-th trial =====\n",
      "=====400-th trial =====\n",
      "--*--*--*--*--* 4-th Simulation --*--*--*--*--*\n",
      "=====0-th trial =====\n",
      "=====100-th trial =====\n",
      "=====200-th trial =====\n",
      "=====300-th trial =====\n",
      "=====400-th trial =====\n",
      "=====0-th trial =====\n",
      "=====100-th trial =====\n",
      "=====200-th trial =====\n",
      "=====300-th trial =====\n",
      "=====400-th trial =====\n",
      "--*--*--*--*--* 5-th Simulation --*--*--*--*--*\n",
      "=====0-th trial =====\n",
      "=====100-th trial =====\n",
      "=====200-th trial =====\n",
      "=====300-th trial =====\n",
      "=====400-th trial =====\n",
      "=====0-th trial =====\n",
      "=====100-th trial =====\n",
      "=====200-th trial =====\n",
      "=====300-th trial =====\n",
      "=====400-th trial =====\n",
      "--*--*--*--*--* 6-th Simulation --*--*--*--*--*\n",
      "=====0-th trial =====\n",
      "=====100-th trial =====\n",
      "=====200-th trial =====\n",
      "=====300-th trial =====\n",
      "=====400-th trial =====\n",
      "=====0-th trial =====\n",
      "=====100-th trial =====\n",
      "=====200-th trial =====\n",
      "=====300-th trial =====\n",
      "=====400-th trial =====\n",
      "--*--*--*--*--* 7-th Simulation --*--*--*--*--*\n",
      "=====0-th trial =====\n",
      "=====100-th trial =====\n",
      "=====200-th trial =====\n",
      "=====300-th trial =====\n",
      "=====400-th trial =====\n",
      "=====0-th trial =====\n",
      "=====100-th trial =====\n",
      "=====200-th trial =====\n",
      "=====300-th trial =====\n",
      "=====400-th trial =====\n",
      "--*--*--*--*--* 8-th Simulation --*--*--*--*--*\n",
      "=====0-th trial =====\n",
      "=====100-th trial =====\n",
      "=====200-th trial =====\n",
      "=====300-th trial =====\n",
      "=====400-th trial =====\n",
      "=====0-th trial =====\n",
      "=====100-th trial =====\n",
      "=====200-th trial =====\n",
      "=====300-th trial =====\n",
      "=====400-th trial =====\n",
      "--*--*--*--*--* 9-th Simulation --*--*--*--*--*\n",
      "=====0-th trial =====\n",
      "=====100-th trial =====\n",
      "=====200-th trial =====\n",
      "=====300-th trial =====\n",
      "=====400-th trial =====\n",
      "=====0-th trial =====\n",
      "=====100-th trial =====\n",
      "=====200-th trial =====\n",
      "=====300-th trial =====\n",
      "=====400-th trial =====\n"
     ]
    }
   ],
   "source": [
    "for m in range(M):\n",
    "    print(\"--*--*--*--*--* \"+ str(m) + \"-th Simulation \" +\"--*--*--*--*--*\")\n",
    "    \n",
    "#     out_opt = np.random.random(T) * (1-true_p[1]) + true_p[1] # unif(p[1], 1)    \n",
    "    out_opt = np.random.random(T) * (true_p[0]-true_p[1]) + true_p[1] # unif(p[1], p[0])    \n",
    "#     out_opt = np.random.random(T) * true_p[0] # unif(0, p[0])    \n",
    "#     out_opt = np.random.random(T) # unif(0, 1)\n",
    "    \n",
    "    irts = agent.IR_ThompsonSampling(true_p, out_opt)\n",
    "    irts.learn()\n",
    "    irts_pred_d[m] = irts.n_success/(irts.n_success + irts.n_fail)\n",
    "    irts_welfare[m] = irts.welfare\n",
    "    irts_n_out[m] = irts.n_out\n",
    "    \n",
    "    ts = agent.IR_ThompsonSampling(true_p, np.zeros(T))\n",
    "    ts.learn()\n",
    "    ts_pred_d[m] = ts.n_success/(ts.n_success + ts.n_fail)\n",
    "    ts_welfare[m] = ts.welfare\n",
    "    \n",
    "    true_max_welfare = np.sum(np.maximum(out_opt, true_p[0]))\n",
    "    irts_welfare_loss[m] = true_max_welfare - irts.welfare\n",
    "    ts_welfare_loss[m] = true_max_welfare - ts.welfare"
   ]
  },
  {
   "cell_type": "code",
   "execution_count": 5,
   "metadata": {},
   "outputs": [
    {
     "name": "stdout",
     "output_type": "stream",
     "text": [
      "3.624736538222231\n",
      "2.141861895454745\n"
     ]
    }
   ],
   "source": [
    "print(np.mean(irts_welfare_loss))\n",
    "print(np.std(irts_welfare_loss))"
   ]
  },
  {
   "cell_type": "code",
   "execution_count": 6,
   "metadata": {},
   "outputs": [
    {
     "name": "stdout",
     "output_type": "stream",
     "text": [
      "3.479999999996528\n",
      "1.4891608375189367\n"
     ]
    }
   ],
   "source": [
    "print(np.mean(ts_welfare_loss))\n",
    "print(np.std(ts_welfare_loss))"
   ]
  },
  {
   "cell_type": "code",
   "execution_count": 7,
   "metadata": {},
   "outputs": [
    {
     "name": "stdout",
     "output_type": "stream",
     "text": [
      "[0.79956849 0.27084416]\n",
      "[0.01625849 0.07125652]\n"
     ]
    }
   ],
   "source": [
    "print(np.mean(irts_pred_d, axis=0))\n",
    "print(np.std(irts_pred_d, axis=0))"
   ]
  },
  {
   "cell_type": "code",
   "execution_count": 8,
   "metadata": {},
   "outputs": [
    {
     "name": "stdout",
     "output_type": "stream",
     "text": [
      "[0.79727401 0.25975108]\n",
      "[0.01032038 0.09778444]\n"
     ]
    }
   ],
   "source": [
    "print(np.mean(ts_pred_d, axis=0))\n",
    "print(np.std(ts_pred_d, axis=0))"
   ]
  },
  {
   "cell_type": "code",
   "execution_count": 9,
   "metadata": {},
   "outputs": [
    {
     "name": "stdout",
     "output_type": "stream",
     "text": [
      "15.7\n",
      "18.9844673351664\n"
     ]
    }
   ],
   "source": [
    "print(np.mean(irts_n_out))\n",
    "print(np.std(irts_n_out))"
   ]
  },
  {
   "cell_type": "code",
   "execution_count": null,
   "metadata": {},
   "outputs": [],
   "source": []
  }
 ],
 "metadata": {
  "kernelspec": {
   "display_name": "Python 3",
   "language": "python",
   "name": "python3"
  },
  "language_info": {
   "codemirror_mode": {
    "name": "ipython",
    "version": 3
   },
   "file_extension": ".py",
   "mimetype": "text/x-python",
   "name": "python",
   "nbconvert_exporter": "python",
   "pygments_lexer": "ipython3",
   "version": "3.6.8"
  }
 },
 "nbformat": 4,
 "nbformat_minor": 2
}
